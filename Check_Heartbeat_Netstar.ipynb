{
 "cells": [
  {
   "cell_type": "code",
   "execution_count": 38,
   "id": "126cc73d",
   "metadata": {},
   "outputs": [],
   "source": [
    "import requests\n",
    "import json\n",
    "import pandas as pd\n",
    "import boto\n",
    "from io import StringIO\n",
    "\n",
    "\n",
    "## Get all vehicles directly from netstar\n",
    "\n",
    "x_api_key = \"NETSTAR API KEY\"\n",
    "url = \"https://ubi-ms.netstar.co.za/vehicle/vehicles/\"\n",
    "headers = {'x-api-key' : x_api_key ,'content-type' : 'application/json'}\n",
    "\n",
    "result_vehicles = requests.post(url, headers=headers)\n",
    "\n",
    "raw_parsed = result_vehicles.text\n",
    "json_object = json.loads(raw_parsed)\n",
    "\n",
    "df1 = pd.json_normalize(json_object)\n",
    "\n",
    "\n",
    "\n",
    "\n",
    "## Get all the folders in S3 bucket netstar-south-africa-rabbit\n",
    "\n",
    "aws_id = \"INSERT AWS ID\"\n",
    "aws_secret = \"INSERT AWS SECRET\"\n",
    "\n",
    "s3conn = boto.connect_s3(aws_id, aws_secret)\n",
    "bucket_name = 'netstar-south-africa-rabbit'\n",
    "bucket = s3conn.get_bucket(bucket_name)\n",
    "folders = bucket.list('', '/')\n",
    "\n",
    "cars = []\n",
    "for folder in folders:\n",
    "    cars.append(folder.name.replace(\"/\",\"\"))\n",
    "\n",
    "    \n",
    "    \n",
    "    \n",
    "## Check if each car has had a heartbeat    \n",
    "    \n",
    "df1[\"Heartbeat\"] = \"\"\n",
    "for index, row in df1.iterrows():\n",
    "    if str(row[\"VbuNo\"]) in cars:\n",
    "        df1.loc[index,'Heartbeat']=\"Yes\"\n",
    "df1.to_csv('/Users/rasmuserlemann/Documents/all_netstar_cars.csv')"
   ]
  },
  {
   "cell_type": "code",
   "execution_count": null,
   "id": "074109b5",
   "metadata": {},
   "outputs": [],
   "source": []
  }
 ],
 "metadata": {
  "kernelspec": {
   "display_name": "Python 3 (ipykernel)",
   "language": "python",
   "name": "python3"
  },
  "language_info": {
   "codemirror_mode": {
    "name": "ipython",
    "version": 3
   },
   "file_extension": ".py",
   "mimetype": "text/x-python",
   "name": "python",
   "nbconvert_exporter": "python",
   "pygments_lexer": "ipython3",
   "version": "3.9.7"
  }
 },
 "nbformat": 4,
 "nbformat_minor": 5
}
