{
 "cells": [
  {
   "cell_type": "code",
   "execution_count": 40,
   "id": "7cf1fcec",
   "metadata": {},
   "outputs": [],
   "source": [
    "#!pip install boto3\n",
    "import boto3\n",
    "import pandas as pd\n",
    "from io import StringIO\n",
    "\n",
    "aws_id = \"INSERT ID\"\n",
    "aws_secret = \"INSERT SECRET\"\n",
    "\n",
    "\n",
    "client = boto3.client('s3', aws_access_key_id=aws_id,\n",
    "\n",
    "        aws_secret_access_key=aws_secret)\n",
    "\n",
    "bucket_name = 'netstar-south-africa'\n",
    "object_key = '7373882.csv'\n",
    "csv_obj = client.get_object(Bucket=bucket_name, Key=object_key)\n",
    "body = csv_obj['Body']\n",
    "csv_string = body.read().decode('utf-8')\n",
    "\n",
    "\n",
    "df = pd.read_csv(StringIO(csv_string))"
   ]
  }
 ],
 "metadata": {
  "kernelspec": {
   "display_name": "Python 3 (ipykernel)",
   "language": "python",
   "name": "python3"
  },
  "language_info": {
   "codemirror_mode": {
    "name": "ipython",
    "version": 3
   },
   "file_extension": ".py",
   "mimetype": "text/x-python",
   "name": "python",
   "nbconvert_exporter": "python",
   "pygments_lexer": "ipython3",
   "version": "3.9.7"
  }
 },
 "nbformat": 4,
 "nbformat_minor": 5
}
